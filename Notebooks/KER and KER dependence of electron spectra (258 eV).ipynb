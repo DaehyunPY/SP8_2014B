version https://git-lfs.github.com/spec/v1
oid sha256:c6c94f838240ebb2204f30b64484b2403128d182d217298a2367a97533bbde43
size 206081
