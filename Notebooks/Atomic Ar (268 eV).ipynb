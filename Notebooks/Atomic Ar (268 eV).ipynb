version https://git-lfs.github.com/spec/v1
oid sha256:77979fec42ad3b13f528efd3cef1434a510e068d63154c173552e323a3823c39
size 94956
