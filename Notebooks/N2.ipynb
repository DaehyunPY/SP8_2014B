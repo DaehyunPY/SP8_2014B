version https://git-lfs.github.com/spec/v1
oid sha256:1883da4e2f53b355471f8d96cfef1798d79a6bbe0a8e16c22d7bc69d52473941
size 140279
