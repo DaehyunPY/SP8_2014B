version https://git-lfs.github.com/spec/v1
oid sha256:4aba04dfcbceec28a0b882d189f2aa1a4f48a961b5f2c1fba563c474332d8f1d
size 95381
